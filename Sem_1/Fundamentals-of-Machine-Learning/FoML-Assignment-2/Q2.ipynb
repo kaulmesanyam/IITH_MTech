{
 "cells": [
  {
   "cell_type": "code",
   "execution_count": 52,
   "id": "9f3a566d-5cdc-45ee-adaf-58fef3e89a22",
   "metadata": {
    "tags": []
   },
   "outputs": [],
   "source": [
    "import scipy.io\n",
    "import numpy as np\n",
    "import matplotlib.pyplot as plt\n",
    "from sklearn.decomposition import PCA\n",
    "from sklearn.preprocessing import StandardScaler\n",
    "from sklearn.neighbors import KNeighborsClassifier\n",
    "from sklearn.metrics import accuracy_score\n",
    "from sklearn.cluster import KMeans\n",
    "from sklearn.metrics import pairwise_distances_argmin_min\n",
    "from collections import Counter\n",
    "from sklearn.metrics import rand_score, confusion_matrix"
   ]
  },
  {
   "cell_type": "code",
   "execution_count": 53,
   "id": "2461d7d8-b8fc-4657-9f68-450d12d5f886",
   "metadata": {
    "tags": []
   },
   "outputs": [],
   "source": [
    "# utility function to calculate purity\n",
    "def calculate_purity(true_labels, predicted_labels):\n",
    "    confusion_mat = confusion_matrix(true_labels, predicted_labels)\n",
    "    purity = np.sum(np.max(confusion_mat, axis=0)) / np.sum(confusion_mat)\n",
    "    return purity\n",
    "\n",
    "# utility function to calculate digit frequency in a cluster\n",
    "def digit_frequency_in_cluster(cluster_labels, Y):\n",
    "    unique_clusters = np.unique(cluster_labels)\n",
    "    for cluster in unique_clusters:\n",
    "        true_labels_in_cluster = Y[cluster_labels == cluster]\n",
    "        digit_counts = Counter(true_labels_in_cluster)\n",
    "        print(f\"Cluster {cluster}:\")\n",
    "        for digit, count in digit_counts.items():\n",
    "            print(f\"Digit {digit}: {count}\")"
   ]
  },
  {
   "cell_type": "markdown",
   "id": "7a7b0e73-8ad0-4390-b3d6-8a27d46b700d",
   "metadata": {},
   "source": [
    "**Q2 Part- A**"
   ]
  },
  {
   "cell_type": "markdown",
   "id": "19833121-09be-4956-9a77-5afc7860bf4c",
   "metadata": {},
   "source": [
    "**Step - 1 : Loading training and testing data**"
   ]
  },
  {
   "cell_type": "code",
   "execution_count": 54,
   "id": "0af6f6d7-024d-49f8-81f7-f86161f57d62",
   "metadata": {
    "tags": []
   },
   "outputs": [],
   "source": [
    "def randomly_sample_2500_from_each_class(X, Y):\n",
    "    X_train = []\n",
    "    Y_train = []\n",
    "    Y = Y.ravel()\n",
    "    \n",
    "    for class_label in range(1,11):\n",
    "        class_indices = np.where(Y == class_label)[0]\n",
    "        sampled_indices = np.random.choice(class_indices, 2500, replace=False)        \n",
    "        # print(sampled_indices)\n",
    "        X_train.append(X[:, :, :, sampled_indices])\n",
    "        Y_train.append(Y[sampled_indices])\n",
    "        \n",
    "    X_train = np.concatenate(X_train, axis=-1)\n",
    "    Y_train = np.concatenate(Y_train)\n",
    "    return X_train, Y_train"
   ]
  },
  {
   "cell_type": "code",
   "execution_count": 55,
   "id": "eb3e4a97-76ef-4b59-a394-cbb6df37a8c8",
   "metadata": {
    "tags": []
   },
   "outputs": [
    {
     "name": "stdout",
     "output_type": "stream",
     "text": [
      "X: (25000, 3072)\n",
      "Y: (25000,)\n",
      "X_mean: - (3072,)\n"
     ]
    }
   ],
   "source": [
    "mnist_train_data = scipy.io.loadmat('D:/SVHN_Dataset/train_32x32.mat')\n",
    "X = mnist_train_data['X'].astype('double')  # Training data\n",
    "Y = mnist_train_data['y']  # Training labels\n",
    "\n",
    "X, Y = randomly_sample_2500_from_each_class(X, Y)\n",
    "\n",
    "X = X.transpose(3, 0, 1, 2)\n",
    "X = X.reshape(X.shape[0], -1)\n",
    "X = X / 255\n",
    "X_mean = np.mean(X, axis=0)\n",
    "\n",
    "# standardizing the data \n",
    "X -= X_mean \n",
    "\n",
    "print('X:', X.shape)\n",
    "print('Y:', Y.shape)\n",
    "print(f'X_mean: - {X_mean.shape}')"
   ]
  },
  {
   "cell_type": "code",
   "execution_count": 56,
   "id": "de860713-b33c-4492-ae59-c4c2d7c3c37d",
   "metadata": {
    "tags": []
   },
   "outputs": [
    {
     "name": "stdout",
     "output_type": "stream",
     "text": [
      "X_test - (26032, 3072)\n",
      "Y_test - (26032, 1)\n"
     ]
    }
   ],
   "source": [
    "mnist_test_data = scipy.io.loadmat('D:/SVHN_Dataset/test_32x32.mat')\n",
    "X_test = mnist_test_data['X'].astype('double')\n",
    "Y_test = mnist_test_data['y']\n",
    "\n",
    "\n",
    "X_test = X_test.transpose(3, 0, 1, 2)\n",
    "X_test = X_test.reshape(X_test.shape[0], -1)\n",
    "X_test = X_test / 255\n",
    "# standardizing the data \n",
    "X_test -= X_mean \n",
    "\n",
    "\n",
    "print(f'X_test - {X_test.shape}')\n",
    "print(f'Y_test - {Y_test.shape}')"
   ]
  },
  {
   "cell_type": "markdown",
   "id": "d1db74e4-7cc2-4d32-8ec1-2a9ec20712bb",
   "metadata": {},
   "source": [
    "**Case - 1: Applying K-means on raw data**"
   ]
  },
  {
   "cell_type": "code",
   "execution_count": null,
   "id": "b4b552b6-f1c0-426f-816a-cf701b3386d1",
   "metadata": {
    "tags": []
   },
   "outputs": [
    {
     "name": "stderr",
     "output_type": "stream",
     "text": [
      "C:\\Users\\sanya\\anaconda3\\Lib\\site-packages\\sklearn\\cluster\\_kmeans.py:1412: FutureWarning: The default value of `n_init` will change from 10 to 'auto' in 1.4. Set the value of `n_init` explicitly to suppress the warning\n",
      "  super()._check_params_vs_input(X, default_n_init=10)\n"
     ]
    }
   ],
   "source": [
    "# Perform k-means clustering with k=10 on raw data\n",
    "kmeans_raw =  KMeans(n_clusters=10, random_state=42)\n",
    "kmeans_raw.fit(X)\n",
    "print(f'Number of clusters formed - {len(kmeans_raw.cluster_centers_)}')"
   ]
  },
  {
   "cell_type": "markdown",
   "id": "9a55e4e1-e458-400c-8ca0-39e7f0b405e5",
   "metadata": {
    "tags": []
   },
   "source": [
    "**Case - 2: Applying k-means on dimentionaly reduced data obtained from top 10 Principle Components (PCs)**"
   ]
  },
  {
   "cell_type": "code",
   "execution_count": 7,
   "id": "e0a7039a-edb4-49b0-9fad-f3240edfcca2",
   "metadata": {
    "tags": []
   },
   "outputs": [
    {
     "data": {
      "text/plain": [
       "(25000, 10)"
      ]
     },
     "execution_count": 7,
     "metadata": {},
     "output_type": "execute_result"
    }
   ],
   "source": [
    "# Perform PCA to get the top 10 eigenvectors\n",
    "pca_top_10 = PCA(n_components=10)\n",
    "pca_top_10.fit(X)\n",
    "X_pca_top_10 = pca_top_10.fit_transform(X)\n",
    "X_pca_top_10.shape"
   ]
  },
  {
   "cell_type": "code",
   "execution_count": 8,
   "id": "f6f3fac8-e13a-4f93-a00f-c269e66fcebc",
   "metadata": {
    "tags": []
   },
   "outputs": [
    {
     "name": "stderr",
     "output_type": "stream",
     "text": [
      "C:\\Users\\sanya\\anaconda3\\Lib\\site-packages\\sklearn\\cluster\\_kmeans.py:1412: FutureWarning: The default value of `n_init` will change from 10 to 'auto' in 1.4. Set the value of `n_init` explicitly to suppress the warning\n",
      "  super()._check_params_vs_input(X, default_n_init=10)\n"
     ]
    },
    {
     "name": "stdout",
     "output_type": "stream",
     "text": [
      "Number of clusters formed - 10\n"
     ]
    }
   ],
   "source": [
    "# Perform k-means clustering with k=10 on PCA-transformed data (dimension from part a)\n",
    "kmeans_pca_top_10 = KMeans( n_clusters=10, random_state=42)\n",
    "kmeans_pca_top_10.fit(X_pca_top_10)\n",
    "labels_pca_top_10 = kmeans_pca_top_10.labels_\n",
    "print(f'Number of clusters formed - {len(kmeans_pca_top_10.cluster_centers_)}')"
   ]
  },
  {
   "cell_type": "markdown",
   "id": "ab86f3ea-f3d6-4d5a-8ff7-27736eb2cec1",
   "metadata": {},
   "source": [
    "**Case - 3: Applying k-means on dimentionaly reduced data obtained from top 27 PCs**"
   ]
  },
  {
   "cell_type": "code",
   "execution_count": 9,
   "id": "691c0559-ecec-4f3c-856a-7dd7e9067231",
   "metadata": {
    "tags": []
   },
   "outputs": [
    {
     "data": {
      "text/plain": [
       "(25000, 27)"
      ]
     },
     "execution_count": 9,
     "metadata": {},
     "output_type": "execute_result"
    }
   ],
   "source": [
    "# Perform PCA to get the top 27 eigenvectors\n",
    "pca_top_27 = PCA(n_components=27)\n",
    "pca_top_27.fit(X)\n",
    "X_pca_top_27 = pca_top_27.fit_transform(X)\n",
    "X_pca_top_27.shape"
   ]
  },
  {
   "cell_type": "code",
   "execution_count": 10,
   "id": "39fc698d-923c-4880-9639-8d2e6794380b",
   "metadata": {
    "tags": []
   },
   "outputs": [
    {
     "name": "stderr",
     "output_type": "stream",
     "text": [
      "C:\\Users\\sanya\\anaconda3\\Lib\\site-packages\\sklearn\\cluster\\_kmeans.py:1412: FutureWarning: The default value of `n_init` will change from 10 to 'auto' in 1.4. Set the value of `n_init` explicitly to suppress the warning\n",
      "  super()._check_params_vs_input(X, default_n_init=10)\n"
     ]
    },
    {
     "name": "stdout",
     "output_type": "stream",
     "text": [
      "Number of clusters formed - 10\n"
     ]
    }
   ],
   "source": [
    "# Perform k-means clustering with k=10 on PCA-transformed data (dimension 10 from part b)\n",
    "kmeans_pca_top_27= KMeans(n_clusters=10, random_state=42)\n",
    "kmeans_pca_top_27.fit(X_pca_top_27)\n",
    "labels_pca_top_27 = kmeans_pca_top_27.labels_\n",
    "print(f'Number of clusters formed - {len(kmeans_pca_top_27.cluster_centers_)}')"
   ]
  },
  {
   "cell_type": "markdown",
   "id": "493a4d21-3aee-4c66-a0fe-98b6bd4939dc",
   "metadata": {},
   "source": [
    "**Finding closest image of each cluster centroid**"
   ]
  },
  {
   "cell_type": "code",
   "execution_count": 11,
   "id": "849a3ef2-6371-4d5a-b776-4430873bdd62",
   "metadata": {
    "tags": []
   },
   "outputs": [],
   "source": [
    "# Function to find the image closest to the centroid for each cluster\n",
    "def find_closest_images(cluster_centers, data):\n",
    "    closest_images = []\n",
    "    for center in cluster_centers:\n",
    "        closest_index = pairwise_distances_argmin_min(center.reshape(1, -1), data)[0][0]\n",
    "        closest_images.append(data[closest_index])\n",
    "    return closest_images\n",
    "\n",
    "# Find the image closest to the centroid for each cluster\n",
    "closest_images_raw = find_closest_images(kmeans_raw.cluster_centers_, X)\n",
    "closest_images_pca_top_10 = find_closest_images(pca_top_10.inverse_transform(kmeans_pca_top_10.cluster_centers_), X)\n",
    "closest_images_pca_top_27 = find_closest_images(pca_top_27.inverse_transform(kmeans_pca_top_27.cluster_centers_), X)\n"
   ]
  },
  {
   "cell_type": "code",
   "execution_count": 12,
   "id": "d742f20e-778e-42dd-866e-bfb1e5b959f7",
   "metadata": {
    "tags": []
   },
   "outputs": [
    {
     "data": {
      "image/png": "[encoded data removed]",
      "text/plain": [
       "<Figure size 1200x400 with 10 Axes>"
      ]
     },
     "metadata": {},
     "output_type": "display_data"
    },
    {
     "name": "stdout",
     "output_type": "stream",
     "text": [
      "****************************************************************************************************************\n"
     ]
    },
    {
     "data": {
      "image/png": "[encoded data removed]",
      "text/plain": [
       "<Figure size 1200x400 with 10 Axes>"
      ]
     },
     "metadata": {},
     "output_type": "display_data"
    },
    {
     "name": "stdout",
     "output_type": "stream",
     "text": [
      "****************************************************************************************************************\n"
     ]
    },
    {
     "data": {
      "image/png": "[encoded data removed]",
      "text/plain": [
       "<Figure size 1200x400 with 10 Axes>"
      ]
     },
     "metadata": {},
     "output_type": "display_data"
    }
   ],
   "source": [
    "def plot_closest_images(images, title):\n",
    "    plt.figure(figsize=(12, 4))\n",
    "    for i, img in enumerate(images):\n",
    "        plt.subplot(2, 5, i + 1)\n",
    "        normalized_image = (img - img.min()) / (img.max() - img.min())\n",
    "        plt.imshow(normalized_image.reshape(32, 32, 3))\n",
    "        plt.title(f'Cluster {i + 1}')\n",
    "        plt.axis('off')\n",
    "    plt.suptitle(title)\n",
    "    plt.show()\n",
    "\n",
    "plot_closest_images(closest_images_raw, 'Closest Images to Centroids (Raw Data)')\n",
    "print('****************************************************************************************************************')\n",
    "plot_closest_images(closest_images_pca_top_10, f'Closest Images to Centroids (PCA, 10 dimensions)')\n",
    "print('****************************************************************************************************************')\n",
    "plot_closest_images(closest_images_pca_top_27, f'Closest Images to Centroids (PCA, 27 dimensions)')"
   ]
  },
  {
   "cell_type": "markdown",
   "id": "ff794969-98d4-457f-9c41-86d78abdccbb",
   "metadata": {},
   "source": [
    "**Case- 1: Using raw data - Frequency of each digit in every cluster: -**"
   ]
  },
  {
   "cell_type": "code",
   "execution_count": 14,
   "id": "dedd99a7-f52c-49db-85bc-1daddcd50dac",
   "metadata": {
    "tags": []
   },
   "outputs": [
    {
     "name": "stdout",
     "output_type": "stream",
     "text": [
      "Frequency of digits in each cluster: \n",
      "Cluster 0:\n",
      "Digit 1: 127\n",
      "Digit 2: 113\n",
      "Digit 3: 105\n",
      "Digit 4: 135\n",
      "Digit 5: 112\n",
      "Digit 6: 153\n",
      "Digit 7: 143\n",
      "Digit 8: 159\n",
      "Digit 9: 123\n",
      "Digit 10: 163\n",
      "Cluster 1:\n",
      "Digit 1: 239\n",
      "Digit 2: 235\n",
      "Digit 3: 232\n",
      "Digit 4: 235\n",
      "Digit 5: 233\n",
      "Digit 6: 237\n",
      "Digit 7: 217\n",
      "Digit 8: 216\n",
      "Digit 9: 209\n",
      "Digit 10: 243\n",
      "Cluster 2:\n",
      "Digit 1: 258\n",
      "Digit 2: 283\n",
      "Digit 3: 288\n",
      "Digit 4: 294\n",
      "Digit 5: 314\n",
      "Digit 6: 301\n",
      "Digit 7: 312\n",
      "Digit 8: 309\n",
      "Digit 9: 302\n",
      "Digit 10: 333\n",
      "Cluster 3:\n",
      "Digit 1: 109\n",
      "Digit 2: 114\n",
      "Digit 3: 129\n",
      "Digit 4: 113\n",
      "Digit 5: 119\n",
      "Digit 6: 128\n",
      "Digit 7: 102\n",
      "Digit 8: 118\n",
      "Digit 9: 99\n",
      "Digit 10: 105\n",
      "Cluster 4:\n",
      "Digit 1: 377\n",
      "Digit 2: 375\n",
      "Digit 3: 372\n",
      "Digit 4: 391\n",
      "Digit 5: 382\n",
      "Digit 6: 387\n",
      "Digit 7: 361\n",
      "Digit 8: 388\n",
      "Digit 9: 369\n",
      "Digit 10: 388\n",
      "Cluster 5:\n",
      "Digit 1: 235\n",
      "Digit 2: 230\n",
      "Digit 3: 232\n",
      "Digit 4: 280\n",
      "Digit 5: 252\n",
      "Digit 6: 232\n",
      "Digit 7: 202\n",
      "Digit 8: 267\n",
      "Digit 9: 260\n",
      "Digit 10: 259\n",
      "Cluster 6:\n",
      "Digit 1: 356\n",
      "Digit 2: 375\n",
      "Digit 3: 373\n",
      "Digit 4: 386\n",
      "Digit 5: 380\n",
      "Digit 6: 405\n",
      "Digit 7: 385\n",
      "Digit 8: 383\n",
      "Digit 9: 413\n",
      "Digit 10: 391\n",
      "Cluster 7:\n",
      "Digit 1: 308\n",
      "Digit 2: 298\n",
      "Digit 3: 291\n",
      "Digit 4: 263\n",
      "Digit 5: 286\n",
      "Digit 6: 282\n",
      "Digit 7: 295\n",
      "Digit 8: 278\n",
      "Digit 9: 268\n",
      "Digit 10: 263\n",
      "Cluster 8:\n",
      "Digit 1: 296\n",
      "Digit 2: 318\n",
      "Digit 3: 334\n",
      "Digit 4: 306\n",
      "Digit 5: 316\n",
      "Digit 6: 284\n",
      "Digit 7: 385\n",
      "Digit 8: 303\n",
      "Digit 9: 379\n",
      "Digit 10: 324\n",
      "Cluster 9:\n",
      "Digit 1: 195\n",
      "Digit 2: 159\n",
      "Digit 3: 144\n",
      "Digit 4: 97\n",
      "Digit 5: 106\n",
      "Digit 6: 91\n",
      "Digit 7: 98\n",
      "Digit 8: 79\n",
      "Digit 9: 78\n",
      "Digit 10: 31\n"
     ]
    }
   ],
   "source": [
    "digit_frequency_in_cluster(kmeans_raw.labels_, Y.ravel())"
   ]
  },
  {
   "cell_type": "markdown",
   "id": "e045cfe9-5c63-4d8a-a519-93e0133c238e",
   "metadata": {},
   "source": [
    "**Case- 2: Using dimentionaly reduced data using top 10 PCs - Frequency of each digit in every cluster: -**"
   ]
  },
  {
   "cell_type": "code",
   "execution_count": 15,
   "id": "90bca072-5dc3-44dd-abd5-d2c11f2c7b8d",
   "metadata": {
    "tags": []
   },
   "outputs": [
    {
     "name": "stdout",
     "output_type": "stream",
     "text": [
      "Frequency of digits in each cluster: \n",
      "Cluster 0:\n",
      "Digit 1: 190\n",
      "Digit 2: 156\n",
      "Digit 3: 140\n",
      "Digit 4: 95\n",
      "Digit 5: 104\n",
      "Digit 6: 92\n",
      "Digit 7: 98\n",
      "Digit 8: 81\n",
      "Digit 9: 78\n",
      "Digit 10: 32\n",
      "Cluster 1:\n",
      "Digit 1: 257\n",
      "Digit 2: 285\n",
      "Digit 3: 286\n",
      "Digit 4: 296\n",
      "Digit 5: 315\n",
      "Digit 6: 296\n",
      "Digit 7: 311\n",
      "Digit 8: 307\n",
      "Digit 9: 296\n",
      "Digit 10: 331\n",
      "Cluster 2:\n",
      "Digit 1: 295\n",
      "Digit 2: 319\n",
      "Digit 3: 332\n",
      "Digit 4: 309\n",
      "Digit 5: 320\n",
      "Digit 6: 288\n",
      "Digit 7: 384\n",
      "Digit 8: 300\n",
      "Digit 9: 376\n",
      "Digit 10: 326\n",
      "Cluster 3:\n",
      "Digit 1: 356\n",
      "Digit 2: 368\n",
      "Digit 3: 375\n",
      "Digit 4: 382\n",
      "Digit 5: 381\n",
      "Digit 6: 409\n",
      "Digit 7: 388\n",
      "Digit 8: 383\n",
      "Digit 9: 417\n",
      "Digit 10: 389\n",
      "Cluster 4:\n",
      "Digit 1: 239\n",
      "Digit 2: 234\n",
      "Digit 3: 231\n",
      "Digit 4: 234\n",
      "Digit 5: 232\n",
      "Digit 6: 239\n",
      "Digit 7: 214\n",
      "Digit 8: 215\n",
      "Digit 9: 208\n",
      "Digit 10: 241\n",
      "Cluster 5:\n",
      "Digit 1: 382\n",
      "Digit 2: 377\n",
      "Digit 3: 371\n",
      "Digit 4: 392\n",
      "Digit 5: 382\n",
      "Digit 6: 384\n",
      "Digit 7: 364\n",
      "Digit 8: 390\n",
      "Digit 9: 370\n",
      "Digit 10: 392\n",
      "Cluster 6:\n",
      "Digit 1: 129\n",
      "Digit 2: 118\n",
      "Digit 3: 108\n",
      "Digit 4: 136\n",
      "Digit 5: 118\n",
      "Digit 6: 154\n",
      "Digit 7: 142\n",
      "Digit 8: 160\n",
      "Digit 9: 126\n",
      "Digit 10: 165\n",
      "Cluster 7:\n",
      "Digit 1: 236\n",
      "Digit 2: 234\n",
      "Digit 3: 236\n",
      "Digit 4: 281\n",
      "Digit 5: 247\n",
      "Digit 6: 232\n",
      "Digit 7: 201\n",
      "Digit 8: 269\n",
      "Digit 9: 263\n",
      "Digit 10: 257\n",
      "Cluster 8:\n",
      "Digit 1: 308\n",
      "Digit 2: 297\n",
      "Digit 3: 292\n",
      "Digit 4: 262\n",
      "Digit 5: 283\n",
      "Digit 6: 280\n",
      "Digit 7: 294\n",
      "Digit 8: 277\n",
      "Digit 9: 267\n",
      "Digit 10: 262\n",
      "Cluster 9:\n",
      "Digit 1: 108\n",
      "Digit 2: 112\n",
      "Digit 3: 129\n",
      "Digit 4: 113\n",
      "Digit 5: 118\n",
      "Digit 6: 126\n",
      "Digit 7: 104\n",
      "Digit 8: 118\n",
      "Digit 9: 99\n",
      "Digit 10: 105\n"
     ]
    }
   ],
   "source": [
    "digit_frequency_in_cluster(kmeans_pca_top_10.labels_, Y.ravel())"
   ]
  },
  {
   "cell_type": "markdown",
   "id": "6e6e0c28-e739-4483-9f62-9a2110d0b728",
   "metadata": {},
   "source": [
    "**Case- 3: Using dimentionaly reduced data using top 27 PCs - Frequency of each digit in every cluster: -**"
   ]
  },
  {
   "cell_type": "code",
   "execution_count": 16,
   "id": "4184c4fc-1f12-4bf9-920e-97b8e3753246",
   "metadata": {
    "tags": []
   },
   "outputs": [
    {
     "name": "stdout",
     "output_type": "stream",
     "text": [
      "Frequency of digits in each cluster: \n",
      "Cluster 0:\n",
      "Digit 1: 226\n",
      "Digit 2: 210\n",
      "Digit 3: 223\n",
      "Digit 4: 265\n",
      "Digit 5: 240\n",
      "Digit 6: 218\n",
      "Digit 7: 195\n",
      "Digit 8: 258\n",
      "Digit 9: 242\n",
      "Digit 10: 251\n",
      "Cluster 1:\n",
      "Digit 1: 253\n",
      "Digit 2: 256\n",
      "Digit 3: 248\n",
      "Digit 4: 246\n",
      "Digit 5: 259\n",
      "Digit 6: 249\n",
      "Digit 7: 235\n",
      "Digit 8: 233\n",
      "Digit 9: 236\n",
      "Digit 10: 260\n",
      "Cluster 2:\n",
      "Digit 1: 315\n",
      "Digit 2: 295\n",
      "Digit 3: 287\n",
      "Digit 4: 269\n",
      "Digit 5: 292\n",
      "Digit 6: 285\n",
      "Digit 7: 299\n",
      "Digit 8: 286\n",
      "Digit 9: 266\n",
      "Digit 10: 261\n",
      "Cluster 3:\n",
      "Digit 1: 127\n",
      "Digit 2: 122\n",
      "Digit 3: 141\n",
      "Digit 4: 125\n",
      "Digit 5: 126\n",
      "Digit 6: 141\n",
      "Digit 7: 118\n",
      "Digit 8: 129\n",
      "Digit 9: 103\n",
      "Digit 10: 115\n",
      "Cluster 4:\n",
      "Digit 1: 347\n",
      "Digit 2: 359\n",
      "Digit 3: 347\n",
      "Digit 4: 370\n",
      "Digit 5: 375\n",
      "Digit 6: 378\n",
      "Digit 7: 348\n",
      "Digit 8: 364\n",
      "Digit 9: 350\n",
      "Digit 10: 374\n",
      "Cluster 5:\n",
      "Digit 1: 260\n",
      "Digit 2: 291\n",
      "Digit 3: 291\n",
      "Digit 4: 307\n",
      "Digit 5: 314\n",
      "Digit 6: 318\n",
      "Digit 7: 314\n",
      "Digit 8: 324\n",
      "Digit 9: 307\n",
      "Digit 10: 340\n",
      "Cluster 6:\n",
      "Digit 1: 282\n",
      "Digit 2: 310\n",
      "Digit 3: 322\n",
      "Digit 4: 293\n",
      "Digit 5: 300\n",
      "Digit 6: 281\n",
      "Digit 7: 375\n",
      "Digit 8: 303\n",
      "Digit 9: 385\n",
      "Digit 10: 326\n",
      "Cluster 7:\n",
      "Digit 1: 200\n",
      "Digit 2: 158\n",
      "Digit 3: 144\n",
      "Digit 4: 102\n",
      "Digit 5: 108\n",
      "Digit 6: 92\n",
      "Digit 7: 96\n",
      "Digit 8: 81\n",
      "Digit 9: 90\n",
      "Digit 10: 30\n",
      "Cluster 8:\n",
      "Digit 1: 372\n",
      "Digit 2: 393\n",
      "Digit 3: 402\n",
      "Digit 4: 388\n",
      "Digit 5: 380\n",
      "Digit 6: 389\n",
      "Digit 7: 380\n",
      "Digit 8: 374\n",
      "Digit 9: 403\n",
      "Digit 10: 391\n",
      "Cluster 9:\n",
      "Digit 1: 118\n",
      "Digit 2: 106\n",
      "Digit 3: 95\n",
      "Digit 4: 135\n",
      "Digit 5: 106\n",
      "Digit 6: 149\n",
      "Digit 7: 140\n",
      "Digit 8: 148\n",
      "Digit 9: 118\n",
      "Digit 10: 152\n"
     ]
    }
   ],
   "source": [
    "digit_frequency_in_cluster(kmeans_pca_top_27.labels_, Y.ravel())"
   ]
  },
  {
   "cell_type": "markdown",
   "id": "ef5ffdce-9f6b-47d9-8921-8f9ad687e30b",
   "metadata": {
    "tags": []
   },
   "source": [
    "**Considering the frequencies calculated using the dimensionally reduced data using top 27 PCs we can see that each cluster has a distinct class with majority**"
   ]
  },
  {
   "cell_type": "markdown",
   "id": "1c2c1408-161f-49fa-995f-42d74749892f",
   "metadata": {},
   "source": [
    "**Q2 Part- B**"
   ]
  },
  {
   "cell_type": "code",
   "execution_count": 17,
   "id": "f72d370a-38a2-49d7-a17d-a4be9dbbb3df",
   "metadata": {
    "tags": []
   },
   "outputs": [
    {
     "name": "stdout",
     "output_type": "stream",
     "text": [
      "SSE (Raw Data): 1241737.6464\n",
      "SSE (PCA, 10 dimensions): 701608.4800\n",
      "SSE (PCA, 27 dimensions): 947384.9796\n"
     ]
    }
   ],
   "source": [
    "sse_raw = kmeans_raw.inertia_\n",
    "sse_pca_top_10 = kmeans_pca_top_10.inertia_\n",
    "sse_pca_top_27 = kmeans_pca_top_27.inertia_\n",
    "\n",
    "print(f\"SSE (Raw Data): {sse_raw:.4f}\")\n",
    "print(f\"SSE (PCA, 10 dimensions): {sse_pca_top_10:.4f}\")\n",
    "print(f\"SSE (PCA, 27 dimensions): {sse_pca_top_27:.4f}\")"
   ]
  },
  {
   "cell_type": "markdown",
   "id": "890b65b1-25bc-4f5a-add6-7a7e5e7827a7",
   "metadata": {},
   "source": [
    "**Rand-index and purity have been calculated below (in Part-C) along with accuracy**"
   ]
  },
  {
   "cell_type": "markdown",
   "id": "8dff3c83-8196-4ce0-8974-05fff92942f2",
   "metadata": {},
   "source": [
    "**Part - C**"
   ]
  },
  {
   "cell_type": "code",
   "execution_count": 50,
   "id": "246f62e7-1056-456a-bc1d-5978f5b74f8d",
   "metadata": {
    "tags": []
   },
   "outputs": [],
   "source": [
    "#Function to assign labels to the clusters based on the max frequency of the digit image contained in it\n",
    "def align_labels(kmeans_labels, true_labels):\n",
    "    unique_clusters = np.unique(kmeans_labels)\n",
    "    cluster_to_label_mappping = {}\n",
    "\n",
    "    for cluster in unique_clusters:\n",
    "        # Get the indices of data points in the current cluster\n",
    "        cluster_indices = np.where(kmeans_labels == cluster)[0]\n",
    "\n",
    "        # Get the true labels for the data points in the cluster\n",
    "        true_labels_in_cluster = true_labels[cluster_indices]\n",
    "        # Find the majority class in the cluster\n",
    "        majority_class = Counter(true_labels_in_cluster).most_common(1)[0][0]\n",
    "        print(f'Label occuring for the maximum time in cluster{cluster} (label, count) - { Counter(true_labels_in_cluster).most_common(1)[0]}')        # Map the k-means cluster label to the majority class label\n",
    "        cluster_to_label_mappping[cluster] = majority_class\n",
    "    \n",
    "    # Reassign the cluster labels based on the mapping\n",
    "    aligned_labels = np.vectorize(cluster_to_label_mappping.get)(kmeans_labels)\n",
    "\n",
    "    return cluster_to_label_mappping"
   ]
  },
  {
   "cell_type": "code",
   "execution_count": 49,
   "id": "1f39684d-6839-431a-bd63-e9b16227b7e2",
   "metadata": {
    "tags": []
   },
   "outputs": [
    {
     "name": "stdout",
     "output_type": "stream",
     "text": [
      "Cluster 0:\n",
      "Digit 1: 226\n",
      "Digit 2: 210\n",
      "Digit 3: 223\n",
      "Digit 4: 265\n",
      "Digit 5: 240\n",
      "Digit 6: 218\n",
      "Digit 7: 195\n",
      "Digit 8: 258\n",
      "Digit 9: 242\n",
      "Digit 10: 251\n",
      "Cluster 1:\n",
      "Digit 1: 253\n",
      "Digit 2: 256\n",
      "Digit 3: 248\n",
      "Digit 4: 246\n",
      "Digit 5: 259\n",
      "Digit 6: 249\n",
      "Digit 7: 235\n",
      "Digit 8: 233\n",
      "Digit 9: 236\n",
      "Digit 10: 260\n",
      "Cluster 2:\n",
      "Digit 1: 315\n",
      "Digit 2: 295\n",
      "Digit 3: 287\n",
      "Digit 4: 269\n",
      "Digit 5: 292\n",
      "Digit 6: 285\n",
      "Digit 7: 299\n",
      "Digit 8: 286\n",
      "Digit 9: 266\n",
      "Digit 10: 261\n",
      "Cluster 3:\n",
      "Digit 1: 127\n",
      "Digit 2: 122\n",
      "Digit 3: 141\n",
      "Digit 4: 125\n",
      "Digit 5: 126\n",
      "Digit 6: 141\n",
      "Digit 7: 118\n",
      "Digit 8: 129\n",
      "Digit 9: 103\n",
      "Digit 10: 115\n",
      "Cluster 4:\n",
      "Digit 1: 347\n",
      "Digit 2: 359\n",
      "Digit 3: 347\n",
      "Digit 4: 370\n",
      "Digit 5: 375\n",
      "Digit 6: 378\n",
      "Digit 7: 348\n",
      "Digit 8: 364\n",
      "Digit 9: 350\n",
      "Digit 10: 374\n",
      "Cluster 5:\n",
      "Digit 1: 260\n",
      "Digit 2: 291\n",
      "Digit 3: 291\n",
      "Digit 4: 307\n",
      "Digit 5: 314\n",
      "Digit 6: 318\n",
      "Digit 7: 314\n",
      "Digit 8: 324\n",
      "Digit 9: 307\n",
      "Digit 10: 340\n",
      "Cluster 6:\n",
      "Digit 1: 282\n",
      "Digit 2: 310\n",
      "Digit 3: 322\n",
      "Digit 4: 293\n",
      "Digit 5: 300\n",
      "Digit 6: 281\n",
      "Digit 7: 375\n",
      "Digit 8: 303\n",
      "Digit 9: 385\n",
      "Digit 10: 326\n",
      "Cluster 7:\n",
      "Digit 1: 200\n",
      "Digit 2: 158\n",
      "Digit 3: 144\n",
      "Digit 4: 102\n",
      "Digit 5: 108\n",
      "Digit 6: 92\n",
      "Digit 7: 96\n",
      "Digit 8: 81\n",
      "Digit 9: 90\n",
      "Digit 10: 30\n",
      "Cluster 8:\n",
      "Digit 1: 372\n",
      "Digit 2: 393\n",
      "Digit 3: 402\n",
      "Digit 4: 388\n",
      "Digit 5: 380\n",
      "Digit 6: 389\n",
      "Digit 7: 380\n",
      "Digit 8: 374\n",
      "Digit 9: 403\n",
      "Digit 10: 391\n",
      "Cluster 9:\n",
      "Digit 1: 118\n",
      "Digit 2: 106\n",
      "Digit 3: 95\n",
      "Digit 4: 135\n",
      "Digit 5: 106\n",
      "Digit 6: 149\n",
      "Digit 7: 140\n",
      "Digit 8: 148\n",
      "Digit 9: 118\n",
      "Digit 10: 152\n"
     ]
    }
   ],
   "source": [
    "digit_frequency_in_cluster(kmeans_pca_top_27.labels_, Y.ravel())"
   ]
  },
  {
   "cell_type": "markdown",
   "id": "4f304bb1-1de7-4edc-95ba-cdd0225a7049",
   "metadata": {},
   "source": [
    "**Labeling each cluster with the digit occuring the most number of times in the cluster**"
   ]
  },
  {
   "cell_type": "markdown",
   "id": "9752c54a-fbbb-4d23-a6c4-7b97a35294de",
   "metadata": {},
   "source": [
    "**Case - 1: Raw Data**"
   ]
  },
  {
   "cell_type": "code",
   "execution_count": 20,
   "id": "3811813e-a7b9-41e5-8fdb-134cd6f9c546",
   "metadata": {
    "tags": []
   },
   "outputs": [
    {
     "name": "stdout",
     "output_type": "stream",
     "text": [
      "Label occuring for the maximum time in cluster0 (label, count) - (10, 163)\n",
      "Label occuring for the maximum time in cluster1 (label, count) - (10, 243)\n",
      "Label occuring for the maximum time in cluster2 (label, count) - (10, 333)\n",
      "Label occuring for the maximum time in cluster3 (label, count) - (3, 129)\n",
      "Label occuring for the maximum time in cluster4 (label, count) - (4, 391)\n",
      "Label occuring for the maximum time in cluster5 (label, count) - (4, 280)\n",
      "Label occuring for the maximum time in cluster6 (label, count) - (9, 413)\n",
      "Label occuring for the maximum time in cluster7 (label, count) - (1, 308)\n",
      "Label occuring for the maximum time in cluster8 (label, count) - (7, 385)\n",
      "Label occuring for the maximum time in cluster9 (label, count) - (1, 195)\n",
      "Cluster to label mapping - {0: 10, 1: 10, 2: 10, 3: 3, 4: 4, 5: 4, 6: 9, 7: 1, 8: 7, 9: 1}\n"
     ]
    }
   ],
   "source": [
    "cluster_to_label_mappping_for_raw_data = align_labels(kmeans_raw.labels_, Y.ravel())\n",
    "print(f'Cluster to label mapping - {cluster_to_label_mappping_for_raw_data}')"
   ]
  },
  {
   "cell_type": "markdown",
   "id": "bd258cb0-472e-4898-a0b2-d3700583dba2",
   "metadata": {},
   "source": [
    "**Accuracy, rand-index and purity : -**"
   ]
  },
  {
   "cell_type": "code",
   "execution_count": 21,
   "id": "081dd280-cac2-4147-b421-4ac4e0e7ad7a",
   "metadata": {
    "tags": []
   },
   "outputs": [
    {
     "name": "stdout",
     "output_type": "stream",
     "text": [
      "Train accuracy using raw data: 11.36 %\n",
      "Test accuracy using raw data: 11.11 %\n"
     ]
    }
   ],
   "source": [
    "replace_func = np.vectorize(lambda x: cluster_to_label_mappping_for_raw_data.get(x, x))\n",
    "\n",
    "y_pred_on_raw = kmeans_raw.predict(X)\n",
    "# Use the function to replace values in the array\n",
    "corrected_y_pred_on_raw_training_set = replace_func(y_pred_on_raw)   \n",
    "accuracy = accuracy_score(Y.ravel(), corrected_y_pred_on_raw_training_set)\n",
    "print(f\"Train accuracy using raw data: {round(accuracy*100, 2)} %\")\n",
    "\n",
    "y_pred_on_raw = kmeans_raw.predict(X_test)\n",
    "# Use the function to replace values in the array\n",
    "corrected_y_pred_on_raw_testing_set = replace_func(y_pred_on_raw)   \n",
    "accuracy = accuracy_score(Y_test.ravel(), corrected_y_pred_on_raw_testing_set)\n",
    "print(f\"Test accuracy using raw data: {round(accuracy*100, 2)} %\")"
   ]
  },
  {
   "cell_type": "code",
   "execution_count": 22,
   "id": "31bb28c8-ed97-48aa-b9c9-9076dbc0cc79",
   "metadata": {
    "tags": []
   },
   "outputs": [
    {
     "name": "stdout",
     "output_type": "stream",
     "text": [
      "Rand-index using raw data on training set: 0.7405898347933917 \n",
      "Rand-index using raw data on testing set: 0.7286221304101107 \n"
     ]
    }
   ],
   "source": [
    "# 0 <= rand_index_value <= 1, where 1 indicates perfect similarity\n",
    "rand_index_raw = rand_score(Y.ravel(), corrected_y_pred_on_raw_training_set)\n",
    "print(f\"Rand-index using raw data on training set: {rand_index_raw} \")\n",
    "rand_index_raw = rand_score(Y_test.ravel(), corrected_y_pred_on_raw_testing_set)\n",
    "print(f\"Rand-index using raw data on testing set: {rand_index_raw} \")"
   ]
  },
  {
   "cell_type": "code",
   "execution_count": 23,
   "id": "7d83e1fa-47b7-4e5f-af1e-806586be36c9",
   "metadata": {
    "tags": []
   },
   "outputs": [
    {
     "name": "stdout",
     "output_type": "stream",
     "text": [
      "Purity using raw data on training set: 0.1136 \n",
      "Purity using raw data on testing set: 0.19618162261831593 \n"
     ]
    }
   ],
   "source": [
    "purity_raw = calculate_purity(Y.ravel(), corrected_y_pred_on_raw_training_set)\n",
    "print(f\"Purity using raw data on training set: {purity_raw} \")\n",
    "purity_raw = calculate_purity(Y_test.ravel(), corrected_y_pred_on_raw_testing_set)\n",
    "print(f\"Purity using raw data on testing set: {purity_raw} \")"
   ]
  },
  {
   "cell_type": "markdown",
   "id": "7855971f-99dc-4bc0-a67d-e5bc5833f06c",
   "metadata": {},
   "source": [
    "**Case - 2: Data with 27 PCs**"
   ]
  },
  {
   "cell_type": "code",
   "execution_count": 24,
   "id": "3d45e647-436b-4e87-9587-0d014ad9cab4",
   "metadata": {
    "tags": []
   },
   "outputs": [
    {
     "name": "stdout",
     "output_type": "stream",
     "text": [
      "Label occuring for the maximum time in cluster0 (label, count) - (4, 265)\n",
      "Label occuring for the maximum time in cluster1 (label, count) - (10, 260)\n",
      "Label occuring for the maximum time in cluster2 (label, count) - (1, 315)\n",
      "Label occuring for the maximum time in cluster3 (label, count) - (3, 141)\n",
      "Label occuring for the maximum time in cluster4 (label, count) - (6, 378)\n",
      "Label occuring for the maximum time in cluster5 (label, count) - (10, 340)\n",
      "Label occuring for the maximum time in cluster6 (label, count) - (9, 385)\n",
      "Label occuring for the maximum time in cluster7 (label, count) - (1, 200)\n",
      "Label occuring for the maximum time in cluster8 (label, count) - (9, 403)\n",
      "Label occuring for the maximum time in cluster9 (label, count) - (10, 152)\n",
      "Cluster to label mapping - {0: 4, 1: 10, 2: 1, 3: 3, 4: 6, 5: 10, 6: 9, 7: 1, 8: 9, 9: 10}\n"
     ]
    }
   ],
   "source": [
    "cluster_to_label_mappping_for_top_27 = align_labels(kmeans_pca_top_27.labels_, Y.ravel())\n",
    "print(f'Cluster to label mapping - {cluster_to_label_mappping_for_top_27}')"
   ]
  },
  {
   "cell_type": "markdown",
   "id": "27e7f48b-763b-49ed-b915-c5d5d976aa77",
   "metadata": {},
   "source": [
    "**Accuracy, rand-index and purity : -**"
   ]
  },
  {
   "cell_type": "code",
   "execution_count": 25,
   "id": "c9851a96-7f3a-45f8-8273-56a9f15595ac",
   "metadata": {
    "tags": []
   },
   "outputs": [
    {
     "name": "stdout",
     "output_type": "stream",
     "text": [
      "Train accuracy on PCA transformed data part-a (27 dimensions): 11.36 %\n",
      "Test accuracy on PCA transformed data part-a (27 dimensions): 10.75 %\n"
     ]
    }
   ],
   "source": [
    "replace_func = np.vectorize(lambda x: cluster_to_label_mappping_for_top_27.get(x, x))\n",
    "\n",
    "y_pred_on_top_27 = kmeans_pca_top_27.predict(pca_top_27.transform(X))\n",
    "# Use the function to replace values in the array\n",
    "corrected_y_pred_on_top_27_training_set = replace_func(y_pred_on_top_27)   \n",
    "accuracy = accuracy_score(Y.ravel(), corrected_y_pred_on_top_27_training_set)\n",
    "print(f\"Train accuracy on PCA transformed data part-a (27 PCs): {round(accuracy*100, 2)} %\")\n",
    "\n",
    "y_pred_on_top_27 = kmeans_pca_top_27.predict(pca_top_27.transform(X_test))\n",
    "# Use the function to replace values in the array\n",
    "corrected_y_pred_on_top_27_testing_set = replace_func(y_pred_on_top_27)   \n",
    "accuracy = accuracy_score(Y_test.ravel(), corrected_y_pred_on_top_27_testing_set)\n",
    "print(f\"Test accuracy on PCA transformed data part-a (27 PCs): {round(accuracy*100, 2)} %\")"
   ]
  },
  {
   "cell_type": "code",
   "execution_count": 26,
   "id": "46d635c9-9cad-46a7-9476-72f5ab0d5f21",
   "metadata": {
    "tags": []
   },
   "outputs": [
    {
     "name": "stdout",
     "output_type": "stream",
     "text": [
      "Rand-index on PCA transformed data part-a (27 dimensions) - training set: 0.7316347789911597 \n",
      "Rand-index on PCA transformed data part-a (27 dimensions) - testing set: 0.7145714513429298 \n"
     ]
    }
   ],
   "source": [
    "# 0 <= rand_index_value <= 1, where 1 indicates perfect similarity\n",
    "rand_index_raw = rand_score(Y.ravel(), corrected_y_pred_on_top_27_training_set)\n",
    "print(f\"Rand-index on PCA transformed data part-a (27 PCs) - training set: {rand_index_raw} \")\n",
    "rand_index_raw = rand_score(Y_test.ravel(), corrected_y_pred_on_top_27_testing_set)\n",
    "print(f\"Rand-index on PCA transformed data part-a (27 PCs) - testing set: {rand_index_raw} \")"
   ]
  },
  {
   "cell_type": "code",
   "execution_count": 27,
   "id": "ec148260-c1c7-4e7a-8bf4-81730e542c81",
   "metadata": {
    "tags": []
   },
   "outputs": [
    {
     "name": "stdout",
     "output_type": "stream",
     "text": [
      "Purity on PCA transformed data part-a (27 dimensions) - training set: 0.11356 \n",
      "Purity on PCA transformed data part-a (27 dimensions) - testing set: 0.1958743085433313 \n"
     ]
    }
   ],
   "source": [
    "purity_raw = calculate_purity(Y.ravel(), corrected_y_pred_on_top_27_training_set)\n",
    "print(f\"Purity on PCA transformed data part-a (27 PCs) - training set: {purity_raw} \")\n",
    "purity_raw = calculate_purity(Y_test.ravel(), corrected_y_pred_on_top_27_testing_set)\n",
    "print(f\"Purity on PCA transformed data part-a (27 PCs) - testing set: {purity_raw} \")"
   ]
  },
  {
   "cell_type": "markdown",
   "id": "0c331cde-a021-481e-ac84-e415dcb0b688",
   "metadata": {
    "tags": []
   },
   "source": [
    "**Case - 3: Data with 10 PCs**"
   ]
  },
  {
   "cell_type": "code",
   "execution_count": 28,
   "id": "63f9d9d2-c249-472a-8135-2a61e596619a",
   "metadata": {
    "tags": []
   },
   "outputs": [
    {
     "name": "stdout",
     "output_type": "stream",
     "text": [
      "Label occuring for the maximum time in cluster0 (label, count) - (1, 190)\n",
      "Label occuring for the maximum time in cluster1 (label, count) - (10, 331)\n",
      "Label occuring for the maximum time in cluster2 (label, count) - (7, 384)\n",
      "Label occuring for the maximum time in cluster3 (label, count) - (9, 417)\n",
      "Label occuring for the maximum time in cluster4 (label, count) - (10, 241)\n",
      "Label occuring for the maximum time in cluster5 (label, count) - (4, 392)\n",
      "Label occuring for the maximum time in cluster6 (label, count) - (10, 165)\n",
      "Label occuring for the maximum time in cluster7 (label, count) - (4, 281)\n",
      "Label occuring for the maximum time in cluster8 (label, count) - (1, 308)\n",
      "Label occuring for the maximum time in cluster9 (label, count) - (3, 129)\n",
      "Cluster to label mapping - {0: 1, 1: 10, 2: 7, 3: 9, 4: 10, 5: 4, 6: 10, 7: 4, 8: 1, 9: 3}\n"
     ]
    }
   ],
   "source": [
    "cluster_to_label_mappping_for_top_10 = align_labels(kmeans_pca_top_10.labels_, Y.ravel())\n",
    "print(f'Cluster to label mapping - {cluster_to_label_mappping_for_top_10}')"
   ]
  },
  {
   "cell_type": "markdown",
   "id": "eb58380a-53f6-4d5c-9cb2-f0f9e98f9086",
   "metadata": {},
   "source": [
    "**Accuracy, rand-index and purity : -**"
   ]
  },
  {
   "cell_type": "code",
   "execution_count": 29,
   "id": "9dac69f3-e301-4c3d-b2bf-0e8aa8a11cff",
   "metadata": {
    "tags": []
   },
   "outputs": [
    {
     "name": "stdout",
     "output_type": "stream",
     "text": [
      "Train accuracy on PCA transformed data part-b (10 dimensions): 11.35 %\n",
      "Test accuracy on PCA transformed data part-b (10 dimensions): 11.16 %\n"
     ]
    }
   ],
   "source": [
    "replace_func = np.vectorize(lambda x: cluster_to_label_mappping_for_top_10.get(x, x))\n",
    "\n",
    "y_pred_on_top_10 = kmeans_pca_top_10.predict(pca_top_10.transform(X))\n",
    "# Use the function to replace values in the array\n",
    "corrected_y_pred_on_top_10_training_set = replace_func(y_pred_on_top_10)   \n",
    "accuracy = accuracy_score(Y.ravel(), corrected_y_pred_on_top_10_training_set)\n",
    "print(f\"Train accuracy on PCA transformed data part-b (10 PCs): {round(accuracy*100, 2)} %\")\n",
    "\n",
    "y_pred_on_top_10 = kmeans_pca_top_10.predict(pca_top_10.transform(X_test))\n",
    "# Use the function to replace values in the array\n",
    "corrected_y_pred_on_top_10_testing_set = replace_func(y_pred_on_top_10)   \n",
    "accuracy = accuracy_score(Y_test.ravel(), corrected_y_pred_on_top_10_testing_set)\n",
    "print(f\"Test accuracy on PCA transformed data part-b (10 PCs): {round(accuracy*100, 2)} %\")"
   ]
  },
  {
   "cell_type": "code",
   "execution_count": 30,
   "id": "49dbd211-08f7-4324-b9d7-69b85aa51a96",
   "metadata": {
    "tags": []
   },
   "outputs": [
    {
     "name": "stdout",
     "output_type": "stream",
     "text": [
      "Rand-index on PCA transformed data part-b (10 dimensions) - training set: 0.7404330317212688 \n",
      "Rand-index on PCA transformed data part-b (10 dimensions) - testing set: 0.7287393757294297 \n"
     ]
    }
   ],
   "source": [
    "# 0 <= rand_index_value <= 1, where 1 indicates perfect similarity\n",
    "rand_index_raw = rand_score(Y.ravel(), corrected_y_pred_on_top_10_training_set)\n",
    "print(f\"Rand-index on PCA transformed data part-b (10 PCs) - training set: {rand_index_raw} \")\n",
    "rand_index_raw = rand_score(Y_test.ravel(), corrected_y_pred_on_top_10_testing_set)\n",
    "print(f\"Rand-index on PCA transformed data part-b (10 PCs) - testing set: {rand_index_raw} \")"
   ]
  },
  {
   "cell_type": "code",
   "execution_count": 31,
   "id": "02186595-6c1f-4524-9220-466e67e9f33e",
   "metadata": {
    "tags": []
   },
   "outputs": [
    {
     "name": "stdout",
     "output_type": "stream",
     "text": [
      "Purity on PCA transformed data part-b (10 dimensions) - training set: 0.11352 \n",
      "Purity on PCA transformed data part-b (10 dimensions) - testing set: 0.19629686539643515 \n"
     ]
    }
   ],
   "source": [
    "purity_raw = calculate_purity(Y.ravel(), corrected_y_pred_on_top_10_training_set)\n",
    "print(f\"Purity on PCA transformed data part-b (10 PCs) - training set: {purity_raw} \")\n",
    "purity_raw = calculate_purity(Y_test.ravel(), corrected_y_pred_on_top_10_testing_set)\n",
    "print(f\"Purity on PCA transformed data part-b (10 PCs) - testing set: {purity_raw} \")"
   ]
  },
  {
   "cell_type": "markdown",
   "id": "b9605070-8984-44b7-ad00-b307f97b62cb",
   "metadata": {},
   "source": [
    "**Comparison of K-means with K-NN :**  \n",
    " - In all the three cases, KNN gives better accuracy than K-means\n",
    " - K-NN test accuracy on raw, PCAtop_10 and PCA_top_27 (Part-A) is around 40%\n",
    " - K-means test accuracy for all three cases is coming out to be around 11%"
   ]
  },
  {
   "cell_type": "markdown",
   "id": "b53ae21e-823b-4549-8ef8-5fb602b806b8",
   "metadata": {},
   "source": [
    "**Part- D**"
   ]
  },
  {
   "cell_type": "markdown",
   "id": "5670cde1-4538-4755-a9b3-4549b8f31871",
   "metadata": {},
   "source": [
    "**Fitting Kmeans with K = 5 on dimansionally reduced data with top 27 PCs**"
   ]
  },
  {
   "cell_type": "code",
   "execution_count": 41,
   "id": "faad5368-caf8-4e13-8e6b-b802ff6768b6",
   "metadata": {
    "tags": []
   },
   "outputs": [
    {
     "name": "stderr",
     "output_type": "stream",
     "text": [
      "C:\\Users\\sanya\\anaconda3\\Lib\\site-packages\\sklearn\\cluster\\_kmeans.py:1412: FutureWarning: The default value of `n_init` will change from 10 to 'auto' in 1.4. Set the value of `n_init` explicitly to suppress the warning\n",
      "  super()._check_params_vs_input(X, default_n_init=10)\n"
     ]
    },
    {
     "name": "stdout",
     "output_type": "stream",
     "text": [
      "Number of clusters formed - 5\n"
     ]
    }
   ],
   "source": [
    "kmeans_pca_top_27_with_5_clusters = KMeans(n_clusters=5, random_state=42)\n",
    "kmeans_pca_top_27_with_5_clusters.fit(X_pca_top_27)\n",
    "labels_pca_top_27 = kmeans_pca_top_27_with_5_clusters.labels_\n",
    "print(f'Number of clusters formed - {len(kmeans_pca_top_27_with_5_clusters.cluster_centers_)}')"
   ]
  },
  {
   "cell_type": "code",
   "execution_count": 51,
   "id": "ec543861-bae7-44e4-bc95-52eb391a3f6a",
   "metadata": {
    "tags": []
   },
   "outputs": [
    {
     "name": "stdout",
     "output_type": "stream",
     "text": [
      "SSE (PCA, 27 PCs): 1098765.5750\n",
      "Frequency of each digit in every cluster: -\n",
      "Cluster 0:\n",
      "Digit 1: 632\n",
      "Digit 2: 614\n",
      "Digit 3: 614\n",
      "Digit 4: 622\n",
      "Digit 5: 645\n",
      "Digit 6: 639\n",
      "Digit 7: 606\n",
      "Digit 8: 656\n",
      "Digit 9: 653\n",
      "Digit 10: 641\n",
      "Cluster 1:\n",
      "Digit 1: 728\n",
      "Digit 2: 694\n",
      "Digit 3: 743\n",
      "Digit 4: 740\n",
      "Digit 5: 691\n",
      "Digit 6: 676\n",
      "Digit 7: 699\n",
      "Digit 8: 695\n",
      "Digit 9: 794\n",
      "Digit 10: 723\n",
      "Cluster 2:\n",
      "Digit 1: 446\n",
      "Digit 2: 483\n",
      "Digit 3: 425\n",
      "Digit 4: 454\n",
      "Digit 5: 448\n",
      "Digit 6: 457\n",
      "Digit 7: 461\n",
      "Digit 8: 428\n",
      "Digit 9: 398\n",
      "Digit 10: 449\n",
      "Cluster 3:\n",
      "Digit 1: 210\n",
      "Digit 2: 210\n",
      "Digit 3: 238\n",
      "Digit 4: 216\n",
      "Digit 5: 216\n",
      "Digit 6: 244\n",
      "Digit 7: 194\n",
      "Digit 8: 236\n",
      "Digit 9: 192\n",
      "Digit 10: 221\n",
      "Cluster 4:\n",
      "Digit 1: 484\n",
      "Digit 2: 499\n",
      "Digit 3: 480\n",
      "Digit 4: 468\n",
      "Digit 5: 500\n",
      "Digit 6: 484\n",
      "Digit 7: 540\n",
      "Digit 8: 485\n",
      "Digit 9: 463\n",
      "Digit 10: 466\n"
     ]
    }
   ],
   "source": [
    "sse_pca_top_27 = kmeans_pca_top_27_with_5_clusters.inertia_\n",
    "print(f\"SSE (PCA, 27 PCs): {sse_pca_top_27:.4f}\")\n",
    "print('Frequency of each digit in every cluster: -')\n",
    "digit_frequency_in_cluster(kmeans_pca_top_27_with_5_clusters.labels_, Y.ravel())"
   ]
  },
  {
   "cell_type": "markdown",
   "id": "087d385b-dea9-4922-adb3-a5974339a98f",
   "metadata": {},
   "source": [
    "**Fitting Kmeans with K = 5 on dimansionally reduced data with top 10 PCs**"
   ]
  },
  {
   "cell_type": "code",
   "execution_count": 42,
   "id": "6d46eb62-effc-42da-b24a-ce976524ea4a",
   "metadata": {
    "tags": []
   },
   "outputs": [
    {
     "name": "stderr",
     "output_type": "stream",
     "text": [
      "C:\\Users\\sanya\\anaconda3\\Lib\\site-packages\\sklearn\\cluster\\_kmeans.py:1412: FutureWarning: The default value of `n_init` will change from 10 to 'auto' in 1.4. Set the value of `n_init` explicitly to suppress the warning\n",
      "  super()._check_params_vs_input(X, default_n_init=10)\n"
     ]
    },
    {
     "name": "stdout",
     "output_type": "stream",
     "text": [
      "Number of clusters formed - 5\n"
     ]
    }
   ],
   "source": [
    "kmeans_pca_top_10_with_5_clusters = KMeans(n_clusters=5, random_state=42)\n",
    "kmeans_pca_top_10_with_5_clusters.fit(X_pca_top_10)\n",
    "labels_pca_top_10 = kmeans_pca_top_10_with_5_clusters.labels_\n",
    "print(f'Number of clusters formed - {len(kmeans_pca_top_10_with_5_clusters.cluster_centers_)}')"
   ]
  },
  {
   "cell_type": "code",
   "execution_count": 45,
   "id": "b513163e-1d64-430a-a593-db5009fa8be8",
   "metadata": {
    "tags": []
   },
   "outputs": [
    {
     "name": "stdout",
     "output_type": "stream",
     "text": [
      "SSE (PCA, 10 dimensions): 852525.4742\n",
      "Frequency of each digit in every cluster: -\n",
      "Cluster 0:\n",
      "Digit 1: 446\n",
      "Digit 2: 482\n",
      "Digit 3: 424\n",
      "Digit 4: 453\n",
      "Digit 5: 448\n",
      "Digit 6: 457\n",
      "Digit 7: 462\n",
      "Digit 8: 425\n",
      "Digit 9: 397\n",
      "Digit 10: 450\n",
      "Cluster 1:\n",
      "Digit 1: 488\n",
      "Digit 2: 504\n",
      "Digit 3: 486\n",
      "Digit 4: 471\n",
      "Digit 5: 504\n",
      "Digit 6: 489\n",
      "Digit 7: 544\n",
      "Digit 8: 489\n",
      "Digit 9: 471\n",
      "Digit 10: 471\n",
      "Cluster 2:\n",
      "Digit 1: 210\n",
      "Digit 2: 211\n",
      "Digit 3: 239\n",
      "Digit 4: 216\n",
      "Digit 5: 216\n",
      "Digit 6: 244\n",
      "Digit 7: 194\n",
      "Digit 8: 238\n",
      "Digit 9: 193\n",
      "Digit 10: 221\n",
      "Cluster 3:\n",
      "Digit 1: 626\n",
      "Digit 2: 603\n",
      "Digit 3: 611\n",
      "Digit 4: 621\n",
      "Digit 5: 643\n",
      "Digit 6: 633\n",
      "Digit 7: 600\n",
      "Digit 8: 655\n",
      "Digit 9: 648\n",
      "Digit 10: 636\n",
      "Cluster 4:\n",
      "Digit 1: 730\n",
      "Digit 2: 700\n",
      "Digit 3: 740\n",
      "Digit 4: 739\n",
      "Digit 5: 689\n",
      "Digit 6: 677\n",
      "Digit 7: 700\n",
      "Digit 8: 693\n",
      "Digit 9: 791\n",
      "Digit 10: 722\n"
     ]
    }
   ],
   "source": [
    "sse_pca_top_10 = kmeans_pca_top_10_with_5_clusters.inertia_\n",
    "print(f\"SSE (PCA, 10 dimensions): {sse_pca_top_10:.4f}\")\n",
    "print('Frequency of each digit in every cluster: -')\n",
    "digit_frequency_in_cluster(kmeans_pca_top_10_with_5_clusters.labels_, Y.ravel())"
   ]
  },
  {
   "cell_type": "markdown",
   "id": "a2ba8dbb-3940-49e1-9e61-b848e1e1638e",
   "metadata": {},
   "source": [
    "**Fitting Kmeans with K = 5 on raw data**"
   ]
  },
  {
   "cell_type": "code",
   "execution_count": 46,
   "id": "8cc87ccb-0175-43c2-9679-aa114135268f",
   "metadata": {
    "tags": []
   },
   "outputs": [
    {
     "name": "stderr",
     "output_type": "stream",
     "text": [
      "C:\\Users\\sanya\\anaconda3\\Lib\\site-packages\\sklearn\\cluster\\_kmeans.py:1412: FutureWarning: The default value of `n_init` will change from 10 to 'auto' in 1.4. Set the value of `n_init` explicitly to suppress the warning\n",
      "  super()._check_params_vs_input(X, default_n_init=10)\n"
     ]
    },
    {
     "name": "stdout",
     "output_type": "stream",
     "text": [
      "Number of clusters formed - 5\n"
     ]
    }
   ],
   "source": [
    "kmeans_raw_5_clusters = KMeans(n_clusters=5, random_state=42)\n",
    "kmeans_raw_5_clusters.fit(X)\n",
    "labels_raw = kmeans_raw_5_clusters.labels_\n",
    "print(f'Number of clusters formed - {len(kmeans_raw_5_clusters.cluster_centers_)}')"
   ]
  },
  {
   "cell_type": "code",
   "execution_count": 48,
   "id": "eb65ba3f-ab5d-4352-bf07-7e0d7c331cc8",
   "metadata": {
    "tags": []
   },
   "outputs": [
    {
     "name": "stdout",
     "output_type": "stream",
     "text": [
      "SSE (on raw data): 1393365.8110\n",
      "Frequency of each digit in every cluster: -\n",
      "Cluster 0:\n",
      "Digit 1: 629\n",
      "Digit 2: 611\n",
      "Digit 3: 613\n",
      "Digit 4: 621\n",
      "Digit 5: 646\n",
      "Digit 6: 638\n",
      "Digit 7: 605\n",
      "Digit 8: 655\n",
      "Digit 9: 652\n",
      "Digit 10: 637\n",
      "Cluster 1:\n",
      "Digit 1: 728\n",
      "Digit 2: 696\n",
      "Digit 3: 744\n",
      "Digit 4: 739\n",
      "Digit 5: 690\n",
      "Digit 6: 675\n",
      "Digit 7: 698\n",
      "Digit 8: 696\n",
      "Digit 9: 794\n",
      "Digit 10: 725\n",
      "Cluster 2:\n",
      "Digit 1: 449\n",
      "Digit 2: 484\n",
      "Digit 3: 425\n",
      "Digit 4: 455\n",
      "Digit 5: 447\n",
      "Digit 6: 456\n",
      "Digit 7: 462\n",
      "Digit 8: 428\n",
      "Digit 9: 398\n",
      "Digit 10: 451\n",
      "Cluster 3:\n",
      "Digit 1: 484\n",
      "Digit 2: 499\n",
      "Digit 3: 480\n",
      "Digit 4: 469\n",
      "Digit 5: 501\n",
      "Digit 6: 485\n",
      "Digit 7: 541\n",
      "Digit 8: 485\n",
      "Digit 9: 463\n",
      "Digit 10: 466\n",
      "Cluster 4:\n",
      "Digit 1: 210\n",
      "Digit 2: 210\n",
      "Digit 3: 238\n",
      "Digit 4: 216\n",
      "Digit 5: 216\n",
      "Digit 6: 246\n",
      "Digit 7: 194\n",
      "Digit 8: 236\n",
      "Digit 9: 193\n",
      "Digit 10: 221\n"
     ]
    }
   ],
   "source": [
    "sse_raw = kmeans_raw_5_clusters.inertia_\n",
    "print(f\"SSE (on raw data): {sse_raw:.4f}\")\n",
    "print('Frequency of each digit in every cluster: -')\n",
    "digit_frequency_in_cluster(kmeans_raw_5_clusters.labels_, Y.ravel())"
   ]
  },
  {
   "cell_type": "markdown",
   "id": "bbf87685-6762-4ebf-8de3-9cb74c0b4369",
   "metadata": {},
   "source": [
    "**From above analysis we can observe that yes, images from different classes are getting clustered together**\n",
    "- Generally, images of all classes are getting mixed in every cluster but the over all number of images in a cluster is getting varied\n",
    "- For example, every image in cluster 3 has frequency more than 650 but the max frequency of images in cluster 2 is around 200 "
   ]
  },
  {
   "cell_type": "code",
   "execution_count": null,
   "id": "22754107-87ba-4559-bdd9-a2e3d39d1ac8",
   "metadata": {},
   "outputs": [],
   "source": []
  }
 ],
 "metadata": {
  "kernelspec": {
   "display_name": "Python 3 (ipykernel)",
   "language": "python",
   "name": "python3"
  },
  "language_info": {
   "codemirror_mode": {
    "name": "ipython",
    "version": 3
   },
   "file_extension": ".py",
   "mimetype": "text/x-python",
   "name": "python",
   "nbconvert_exporter": "python",
   "pygments_lexer": "ipython3",
   "version": "3.11.5"
  }
 },
 "nbformat": 4,
 "nbformat_minor": 5
}
