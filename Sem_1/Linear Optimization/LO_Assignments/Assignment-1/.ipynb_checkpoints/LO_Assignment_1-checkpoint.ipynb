{
 "cells": [
  {
   "cell_type": "markdown",
   "id": "e2b82309-45fe-406a-afef-afa7444d5966",
   "metadata": {
    "tags": []
   },
   "source": [
    "## Assignment-1"
   ]
  },
  {
   "cell_type": "markdown",
   "id": "047809a7-76e2-4ebe-9e13-d14f3cd49629",
   "metadata": {
    "tags": []
   },
   "source": [
    "#### Sanyam Kaul: CS23MTECH14011\n",
    "#### Mayuresh Rajesh Dindorkar: CS23MTECH14007\n",
    "#### Shrenik Ganguli: CS23MTECH14014\n",
    "#### Sreyash Mohanty: CS23MTECH14015"
   ]
  },
  {
   "cell_type": "markdown",
   "id": "6221b82e-9b55-4678-9a70-bfa4412022ca",
   "metadata": {},
   "source": [
    "**Assumption**\n",
    " - Polytope is non-degenerate.\n",
    " - Polytope is bounded\n",
    " - Rank of A is n \n",
    " - Initial feasible point is given"
   ]
  },
  {
   "cell_type": "markdown",
   "id": "2d022625-49f9-4abb-bc38-03550662c400",
   "metadata": {},
   "source": [
    "## Instructions to execute code: -\n",
    " - Kindly re-start the kernel every-time before runnning the code"
   ]
  },
  {
   "cell_type": "markdown",
   "id": "94707504-3a2c-457b-959d-b41b5cf3b38e",
   "metadata": {},
   "source": [
    "---"
   ]
  },
  {
   "cell_type": "code",
   "execution_count": 1,
   "id": "91763f21-7906-4aea-99a3-21f7aa511daa",
   "metadata": {
    "tags": []
   },
   "outputs": [
    {
     "name": "stdout",
     "output_type": "stream",
     "text": [
      "A:\n",
      "[[ 2. -1.]\n",
      " [ 1.  2.]\n",
      " [-1.  1.]\n",
      " [-1.  0.]\n",
      " [ 0. -1.]]\n",
      "B: [4. 9. 3. 0. 0.]\n",
      "C: [2. 5.]\n",
      "X: [2. 0.]\n",
      "m: 5\n",
      "n: 2\n",
      "\n",
      "Arrived at new point Z': [3.4 2.8]\tCost at this Z': 20.79999999999328\n",
      "\n",
      "--------------------------------------------------------------------------------\n",
      "Arrived at new point Z': [1. 4.]\tCost at this Z': 21.999999999991466\n",
      "\n",
      "--------------------------------------------------------------------------------\n",
      "Optimal Value (C.X) :21.999999999991466\tOptimal vertex (X) :[1. 4.]\n",
      "\n"
     ]
    }
   ],
   "source": [
    "\n",
    "# =============================================================================\n",
    "# Sanyam Kaul: CS23MTECH14011\n",
    "# Mayuresh Rajesh Dindorkar: CS23MTECH14007\n",
    "# Shrenik Ganguli: CS23MTECH14014\n",
    "# Sreyash Mohanty: CS23MTECH14015\n",
    "#\n",
    "# Assumption\n",
    "# 1. Polytope is non-degenerate.\n",
    "# 2. Polytope is bounded\n",
    "# 3. Rak of A is n \n",
    "# 4. Initial feasible point is given\n",
    "# =============================================================================\n",
    "\n",
    "# importing libraries\n",
    "import numpy as np\n",
    "import numpy.linalg as la\n",
    "import csv\n",
    "\n",
    "\n",
    "class LO_Assignment_1:\n",
    "    def __init__(self, m, n, A, B, C):\n",
    "        self.epslion = 1e-8\n",
    "        \n",
    "        self.A = A\n",
    "        self.B = B\n",
    "        self.C = C\n",
    "        self.X = np.empty([n])\n",
    "        self.n = n\n",
    "        self.m = m\n",
    "        self.assert_input_dimesions()\n",
    "    \n",
    "    # Verifying that input has correct dimensions\n",
    "    def assert_input_dimesions(self):\n",
    "\n",
    "        assert(self.B.shape == (self.m,))\n",
    "        assert(self.C.shape == (self.n,))\n",
    "        assert(self.X.shape == (self.n,))\n",
    "\n",
    "        self.execute_simplex_algorithm()\n",
    "    \n",
    "    #method to extract linearly independent rows\n",
    "    def get_linearly_independ_rows(self, A, B, X):\n",
    "        indices = np.where(np.abs((A @ X) - B) < self.epslion)[0]\n",
    "        return A[indices], indices\n",
    "    \n",
    "    # calculating min ratio to calculate beta value\n",
    "    def get_min_ratio(self, A_non_tight, B_non_tight, v):\n",
    "        return (B_non_tight - np.dot(A_non_tight, self.X)) / ((A_non_tight @ v) + 1e-12)\n",
    "    \n",
    "    #extracting non tight rows to calculate beta value\n",
    "    def extract_non_tight_rows(self, matrix, indices):\n",
    "        return matrix[~np.isin(np.arange(len(matrix)), indices)]\n",
    "    \n",
    "    # Method used to move towards vertex\n",
    "    def move_towards_vertex(self, negative_alphas_list, A_tight_row_matrix_inv, indices):\n",
    "        if len(negative_alphas_list) == 0:\n",
    "           return None\n",
    "        else:\n",
    "            negative_alphas_list = negative_alphas_list[0]\n",
    "            v = -A_tight_row_matrix_inv[negative_alphas_list]\n",
    "            B_non_tight = self.extract_non_tight_rows(B, indices)\n",
    "            A_non_tight = self.extract_non_tight_rows(A, indices)\n",
    "            min_ratio = self.get_min_ratio(A_non_tight, B_non_tight, v)\n",
    "            beta = np.min(min_ratio[min_ratio >= 0])\n",
    "            return beta * v\n",
    "    \n",
    "    # Method to calculate direction vectos using linearly independent rows which is then used in move_towards_vertex method\n",
    "    def get_direction_vector(self):\n",
    "        A_tight_row_matrix, indices = self.get_linearly_independ_rows(self.A, self.B, self.X)\n",
    "        A_tight_row_matrix_inv = la.inv(A_tight_row_matrix.T)\n",
    "        alphas = (A_tight_row_matrix_inv @ self.C) \n",
    "        negative_alphas_list = np.where(alphas < 0)[0]\n",
    "        return self.move_towards_vertex(negative_alphas_list, A_tight_row_matrix_inv, indices)\n",
    "    \n",
    "    # Method to run simplex algorithm\n",
    "    def execute_simplex_algorithm(self) -> None:\n",
    "        while True:\n",
    "            direction_vector= self.get_direction_vector()\n",
    "            if direction_vector is not None: \n",
    "                self.X = self.X + direction_vector \n",
    "                print(f\"Arrived at new point Z': {self.X}\\tCost at this Z': {self.C @ self.X}\\n\")\n",
    "                print('--------------------------------------------------------------------------------')\n",
    "            else:\n",
    "                break\n",
    "\n",
    "        print(f\"Optimal Value (C.X) :{np.dot(self.C,self.X)}\\tOptimal vertex (X) :{self.X}\\n\")\n",
    "\n",
    "if __name__ == '__main__':\n",
    "    \n",
    "    # Reading the csv file for test case input\n",
    "    file_path = 'Assignment1.csv'\n",
    "    with open(file_path, 'r') as file:\n",
    "        reader = csv.reader(file)\n",
    "        data = list(reader)\n",
    "\n",
    "    # Extracting parameters from read csv file\n",
    "    X = np.array([float(x) for x in data[0][:-1]])\n",
    "    C = np.array([float(x) for x in data[1][:-1]])\n",
    "    B = np.array([float(x) for x in [row[-1] for row in data[2:]]])\n",
    "    A = np.array([[float(x) for x in row[:-1]] for row in data[2:]])\n",
    "    m = A.shape[0]\n",
    "    n = A.shape[1]\n",
    "    \n",
    "    # Printing extracted parameters\n",
    "    print('A:')\n",
    "    print(A)\n",
    "    print(f'B: {B}')\n",
    "    print(f'C: {C}')\n",
    "    print(f'X: {X}')\n",
    "    print(f'm: {m}')\n",
    "    print(f'n: {n}\\n')\n",
    "    \n",
    "    # Calling constructor and passing parameters \n",
    "    LO_Assignment_1(m, n, A, B, C)"
   ]
  },
  {
   "cell_type": "code",
   "execution_count": null,
   "id": "741815f5-a0dd-4fdf-ab4f-bdc32ffeaf4d",
   "metadata": {},
   "outputs": [],
   "source": []
  }
 ],
 "metadata": {
  "kernelspec": {
   "display_name": "Python 3 (ipykernel)",
   "language": "python",
   "name": "python3"
  },
  "language_info": {
   "codemirror_mode": {
    "name": "ipython",
    "version": 3
   },
   "file_extension": ".py",
   "mimetype": "text/x-python",
   "name": "python",
   "nbconvert_exporter": "python",
   "pygments_lexer": "ipython3",
   "version": "3.11.5"
  }
 },
 "nbformat": 4,
 "nbformat_minor": 5
}
